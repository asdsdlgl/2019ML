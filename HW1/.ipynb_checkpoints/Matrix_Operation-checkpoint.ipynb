{
 "cells": [
  {
   "cell_type": "code",
   "execution_count": 1,
   "metadata": {},
   "outputs": [],
   "source": [
    "import pandas as pd\n",
    "import numpy as np\n",
    "import matplotlib.pyplot as plt"
   ]
  },
  {
   "cell_type": "code",
   "execution_count": 9,
   "metadata": {},
   "outputs": [],
   "source": [
    "def transpose(A):\n",
    "    b = []\n",
    "    x_len = len(A)\n",
    "    y_len = len(A[0])\n",
    "    for i in range(y_len):\n",
    "        for j in range(x_len):\n",
    "            b.append(A[j][i])\n",
    "    b = np.array(b).reshape((y_len,x_len)).tolist()\n",
    "    return b "
   ]
  },
  {
   "cell_type": "code",
   "execution_count": 5,
   "metadata": {},
   "outputs": [],
   "source": [
    "def multiple_matrix(A,B):\n",
    "    c = []\n",
    "    for i in range(len(A)):\n",
    "        mul = 0\n",
    "        for j in range(len(A[0])):\n",
    "            mul += A[i][j]*B[j]\n",
    "        c.append(mul)\n",
    "    return c"
   ]
  },
  {
   "cell_type": "code",
   "execution_count": null,
   "metadata": {},
   "outputs": [],
   "source": []
  },
  {
   "cell_type": "code",
   "execution_count": null,
   "metadata": {},
   "outputs": [],
   "source": []
  }
 ],
 "metadata": {
  "kernelspec": {
   "display_name": "Python 3",
   "language": "python",
   "name": "python3"
  },
  "language_info": {
   "codemirror_mode": {
    "name": "ipython",
    "version": 3
   },
   "file_extension": ".py",
   "mimetype": "text/x-python",
   "name": "python",
   "nbconvert_exporter": "python",
   "pygments_lexer": "ipython3",
   "version": "3.7.0"
  }
 },
 "nbformat": 4,
 "nbformat_minor": 2
}
